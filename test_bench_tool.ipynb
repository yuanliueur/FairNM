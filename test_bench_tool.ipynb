{
 "cells": [
  {
   "cell_type": "markdown",
   "id": "402c7e61",
   "metadata": {},
   "source": [
    "# Name Matching Algorithm Test Bench"
   ]
  },
  {
   "cell_type": "code",
   "execution_count": 1,
   "id": "830a7393",
   "metadata": {
    "scrolled": false
   },
   "outputs": [],
   "source": [
    "%load_ext autoreload\n",
    "%autoreload 2\n",
    "\n",
    "import warnings\n",
    "warnings.filterwarnings(\"ignore\")\n",
    "\n",
    "from imports import *\n",
    "from name_variation_generator import nameVariationGenerator, augment_database\n",
    "from fairnm import FairNM\n",
    "from testbench import TestBench\n",
    "\n",
    "model_path = \"./models/SNM.model\"\n",
    "vocab_path = \"./models/SNM.vocab\"\n",
    "name_weights_path = \"./data/name_weights.csv\"\n",
    "\n",
    "fairnm = FairNM(model_path, vocab_path, name_weights_path)\n",
    "testbench = TestBench()"
   ]
  },
  {
   "cell_type": "markdown",
   "id": "43cfaeb8",
   "metadata": {},
   "source": [
    "### Import Name Database"
   ]
  },
  {
   "cell_type": "code",
   "execution_count": 2,
   "id": "2402cd7d",
   "metadata": {
    "scrolled": true
   },
   "outputs": [
    {
     "data": {
      "text/html": [
       "<div>\n",
       "<style scoped>\n",
       "    .dataframe tbody tr th:only-of-type {\n",
       "        vertical-align: middle;\n",
       "    }\n",
       "\n",
       "    .dataframe tbody tr th {\n",
       "        vertical-align: top;\n",
       "    }\n",
       "\n",
       "    .dataframe thead th {\n",
       "        text-align: right;\n",
       "    }\n",
       "</style>\n",
       "<table border=\"1\" class=\"dataframe\">\n",
       "  <thead>\n",
       "    <tr style=\"text-align: right;\">\n",
       "      <th></th>\n",
       "      <th>full_name</th>\n",
       "      <th>country_code</th>\n",
       "      <th>language_code</th>\n",
       "      <th>first_name</th>\n",
       "      <th>middle_name</th>\n",
       "      <th>last_name</th>\n",
       "    </tr>\n",
       "  </thead>\n",
       "  <tbody>\n",
       "    <tr>\n",
       "      <th>3348</th>\n",
       "      <td>Virgiliu Postolachi</td>\n",
       "      <td>FRA</td>\n",
       "      <td>FRA</td>\n",
       "      <td>Virgiliu</td>\n",
       "      <td>NaN</td>\n",
       "      <td>Postolachi</td>\n",
       "    </tr>\n",
       "    <tr>\n",
       "      <th>148503</th>\n",
       "      <td>Inigo Thomas</td>\n",
       "      <td>BRI</td>\n",
       "      <td>BRI</td>\n",
       "      <td>Inigo</td>\n",
       "      <td>NaN</td>\n",
       "      <td>Thomas</td>\n",
       "    </tr>\n",
       "    <tr>\n",
       "      <th>29712</th>\n",
       "      <td>Louis Georges de Contades</td>\n",
       "      <td>FRA</td>\n",
       "      <td>FRA</td>\n",
       "      <td>Louis</td>\n",
       "      <td>Georges</td>\n",
       "      <td>de Contades</td>\n",
       "    </tr>\n",
       "    <tr>\n",
       "      <th>213282</th>\n",
       "      <td>Joeline Möbius</td>\n",
       "      <td>GER</td>\n",
       "      <td>GER</td>\n",
       "      <td>Joeline</td>\n",
       "      <td>NaN</td>\n",
       "      <td>Möbius</td>\n",
       "    </tr>\n",
       "    <tr>\n",
       "      <th>136492</th>\n",
       "      <td>Gus Casely-Hayford</td>\n",
       "      <td>BRI</td>\n",
       "      <td>BRI</td>\n",
       "      <td>Gus</td>\n",
       "      <td>NaN</td>\n",
       "      <td>Casely-Hayford</td>\n",
       "    </tr>\n",
       "  </tbody>\n",
       "</table>\n",
       "</div>"
      ],
      "text/plain": [
       "                        full_name country_code language_code first_name  \\\n",
       "3348          Virgiliu Postolachi          FRA           FRA   Virgiliu   \n",
       "148503               Inigo Thomas          BRI           BRI      Inigo   \n",
       "29712   Louis Georges de Contades          FRA           FRA      Louis   \n",
       "213282             Joeline Möbius          GER           GER    Joeline   \n",
       "136492         Gus Casely-Hayford          BRI           BRI        Gus   \n",
       "\n",
       "       middle_name       last_name  \n",
       "3348           NaN      Postolachi  \n",
       "148503         NaN          Thomas  \n",
       "29712      Georges     de Contades  \n",
       "213282         NaN          Möbius  \n",
       "136492         NaN  Casely-Hayford  "
      ]
     },
     "execution_count": 2,
     "metadata": {},
     "output_type": "execute_result"
    }
   ],
   "source": [
    "names_df = pd.read_csv('./data/name_database.csv', sep = '\\t')\n",
    "names_df.sample(5)"
   ]
  },
  {
   "cell_type": "markdown",
   "id": "ec1c14f4",
   "metadata": {},
   "source": [
    "### Customizable Name Matching System\n",
    "In the following cell you can define your own name matching algorithm. You can fill in anything you like, as long as the resulting score is a float bounded between 0 and 1 which defines the similarity of the two names."
   ]
  },
  {
   "cell_type": "code",
   "execution_count": 4,
   "id": "b967c4fc",
   "metadata": {},
   "outputs": [],
   "source": [
    "# As an example we set our FairNM algorithm\n",
    "\n",
    "def name_matcher(name1, name2):\n",
    "    \"\"\" Enter your similarity scoring function\n",
    "\n",
    "    Parameters\n",
    "    ----------\n",
    "    name1 (str) : first name to compare\n",
    "    name2 (str) : second name to compare\n",
    "\n",
    "    Returns\n",
    "    -------\n",
    "    sim_score (float) : similarity score, 1 is exact match 0 is no-match\n",
    "    \"\"\"\n",
    "    sim_score = fairnm.nameMatcher(name1, name2)\n",
    "    \n",
    "    return sim_score"
   ]
  },
  {
   "cell_type": "markdown",
   "id": "3b99844a",
   "metadata": {},
   "source": [
    "### Initialize the Test Bench Configuration\n",
    "Option to exclude certain country codes or variations from the testbench and set sample size and/or random seed/.\n",
    "\n",
    "Default variations include:\n",
    "- full_name (no alterations)\n",
    "- fat_finger_replace\n",
    "- random_deletion\n",
    "- swapped_names"
   ]
  },
  {
   "cell_type": "code",
   "execution_count": 5,
   "id": "79f1d33a",
   "metadata": {
    "scrolled": true
   },
   "outputs": [
    {
     "data": {
      "text/html": [
       "<div>\n",
       "<style scoped>\n",
       "    .dataframe tbody tr th:only-of-type {\n",
       "        vertical-align: middle;\n",
       "    }\n",
       "\n",
       "    .dataframe tbody tr th {\n",
       "        vertical-align: top;\n",
       "    }\n",
       "\n",
       "    .dataframe thead th {\n",
       "        text-align: right;\n",
       "    }\n",
       "</style>\n",
       "<table border=\"1\" class=\"dataframe\">\n",
       "  <thead>\n",
       "    <tr style=\"text-align: right;\">\n",
       "      <th></th>\n",
       "      <th>person_id</th>\n",
       "      <th>language_code</th>\n",
       "      <th>full_name</th>\n",
       "      <th>fat_finger</th>\n",
       "      <th>random_del</th>\n",
       "      <th>swapped_names</th>\n",
       "    </tr>\n",
       "  </thead>\n",
       "  <tbody>\n",
       "    <tr>\n",
       "      <th>0</th>\n",
       "      <td>0</td>\n",
       "      <td>ARAB</td>\n",
       "      <td>Rasoul Yunan</td>\n",
       "      <td>Rasoul Yynan</td>\n",
       "      <td>Rasul Yunan</td>\n",
       "      <td>Yunan Rasoul</td>\n",
       "    </tr>\n",
       "    <tr>\n",
       "      <th>1</th>\n",
       "      <td>1</td>\n",
       "      <td>ARAB</td>\n",
       "      <td>Ahmad ibn Rustah</td>\n",
       "      <td>Ahmad ibn Rusfah</td>\n",
       "      <td>Ahmad ibn Rstah</td>\n",
       "      <td>ibn Rustah Ahmad</td>\n",
       "    </tr>\n",
       "    <tr>\n",
       "      <th>2</th>\n",
       "      <td>2</td>\n",
       "      <td>ARAB</td>\n",
       "      <td>Mostafa Khomeini</td>\n",
       "      <td>Mostafa Kjomeini</td>\n",
       "      <td>Mostaa Khomeini</td>\n",
       "      <td>Khomeini Mostafa</td>\n",
       "    </tr>\n",
       "    <tr>\n",
       "      <th>3</th>\n",
       "      <td>3</td>\n",
       "      <td>ARAB</td>\n",
       "      <td>Sheikh Ahmad-e Jami</td>\n",
       "      <td>Sheikh Ahmad-e Jsmi</td>\n",
       "      <td>Sheikh Ahma-e Jami</td>\n",
       "      <td>Jami Sheikh</td>\n",
       "    </tr>\n",
       "    <tr>\n",
       "      <th>4</th>\n",
       "      <td>4</td>\n",
       "      <td>ARAB</td>\n",
       "      <td>Mostafa El-Sayed</td>\n",
       "      <td>Mosfafa El-Sayed</td>\n",
       "      <td>Mostaf El-Sayed</td>\n",
       "      <td>El-Sayed Mostafa</td>\n",
       "    </tr>\n",
       "  </tbody>\n",
       "</table>\n",
       "</div>"
      ],
      "text/plain": [
       "   person_id language_code            full_name           fat_finger  \\\n",
       "0          0          ARAB         Rasoul Yunan         Rasoul Yynan   \n",
       "1          1          ARAB     Ahmad ibn Rustah     Ahmad ibn Rusfah   \n",
       "2          2          ARAB     Mostafa Khomeini     Mostafa Kjomeini   \n",
       "3          3          ARAB  Sheikh Ahmad-e Jami  Sheikh Ahmad-e Jsmi   \n",
       "4          4          ARAB     Mostafa El-Sayed     Mosfafa El-Sayed   \n",
       "\n",
       "           random_del     swapped_names  \n",
       "0         Rasul Yunan      Yunan Rasoul  \n",
       "1     Ahmad ibn Rstah  ibn Rustah Ahmad  \n",
       "2     Mostaa Khomeini  Khomeini Mostafa  \n",
       "3  Sheikh Ahma-e Jami       Jami Sheikh  \n",
       "4     Mostaf El-Sayed  El-Sayed Mostafa  "
      ]
     },
     "execution_count": 5,
     "metadata": {},
     "output_type": "execute_result"
    }
   ],
   "source": [
    "test_df = augment_database(names_df, \n",
    "                           name_variation_generator = nameVariationGenerator(),\n",
    "                           excluded_variations = [],\n",
    "                           excluded_langs = ['VIE'],\n",
    "                           sample_size = 3000,\n",
    "                           random_seed = 12\n",
    "                          )\n",
    "test_df.head(5)"
   ]
  },
  {
   "cell_type": "markdown",
   "id": "93138870",
   "metadata": {},
   "source": [
    "### Run Test Bench\n",
    "Here we run the test bench and translate the results into performance measures:\n",
    "\n",
    "- precision\n",
    "- recall\n",
    "- F1\n",
    "- Fairness "
   ]
  },
  {
   "cell_type": "code",
   "execution_count": 7,
   "id": "9cfdba0c",
   "metadata": {
    "scrolled": true
   },
   "outputs": [
    {
     "name": "stdout",
     "output_type": "stream",
     "text": [
      "full_name\n"
     ]
    },
    {
     "name": "stderr",
     "output_type": "stream",
     "text": [
      "Processing: 100%|███████████████████████████████████| 12/12 [02:55<00:00, 14.62s/it]\n"
     ]
    },
    {
     "name": "stdout",
     "output_type": "stream",
     "text": [
      "fat_finger\n"
     ]
    },
    {
     "name": "stderr",
     "output_type": "stream",
     "text": [
      "Processing: 100%|███████████████████████████████████| 12/12 [02:09<00:00, 10.82s/it]\n"
     ]
    },
    {
     "name": "stdout",
     "output_type": "stream",
     "text": [
      "random_del\n"
     ]
    },
    {
     "name": "stderr",
     "output_type": "stream",
     "text": [
      "Processing: 100%|███████████████████████████████████| 12/12 [02:41<00:00, 13.43s/it]\n"
     ]
    },
    {
     "name": "stdout",
     "output_type": "stream",
     "text": [
      "swapped_names\n"
     ]
    },
    {
     "name": "stderr",
     "output_type": "stream",
     "text": [
      "Processing: 100%|███████████████████████████████████| 12/12 [08:03<00:00, 40.29s/it]\n"
     ]
    }
   ],
   "source": [
    "TP_FP_res = testbench.run(test_df, fairnm, name_matcher)"
   ]
  },
  {
   "cell_type": "code",
   "execution_count": 10,
   "id": "9feed5fd",
   "metadata": {},
   "outputs": [],
   "source": [
    "measuresResults = testbench.TP_FP_to_Measures(TP_FP_res)"
   ]
  },
  {
   "cell_type": "code",
   "execution_count": null,
   "id": "2c7ab8d6",
   "metadata": {},
   "outputs": [],
   "source": []
  },
  {
   "cell_type": "markdown",
   "id": "2071bb13",
   "metadata": {},
   "source": [
    "### Visualize Results\n",
    "\n",
    "Select which Measure of Interest (MoI) you want to see, we can look at:\n",
    "\n",
    "- Precision\n",
    "- Recall\n",
    "- F1\n",
    "- Fairness\n",
    "- Overview\n",
    "\n",
    "and select whether we want to see the performance per language code or the overall performance by toggeling the $\\texttt{sep}$ boolean (True means separate, False means overall)."
   ]
  },
  {
   "cell_type": "code",
   "execution_count": 11,
   "id": "4b25fffa",
   "metadata": {},
   "outputs": [
    {
     "data": {
      "application/vnd.jupyter.widget-view+json": {
       "model_id": "1ce4a632cd6f440494875127066d28c2",
       "version_major": 2,
       "version_minor": 0
      },
      "text/plain": [
       "Dropdown(description='Measure of Interest:', options=('Precision', 'Recall', 'F1', 'Fairness', 'Overview'), va…"
      ]
     },
     "metadata": {},
     "output_type": "display_data"
    },
    {
     "data": {
      "application/vnd.jupyter.widget-view+json": {
       "model_id": "40d3b0dacb8c44e4b5ebeb80096641a8",
       "version_major": 2,
       "version_minor": 0
      },
      "text/plain": [
       "Dropdown(description='Separate:', options=(True, False), value=True)"
      ]
     },
     "metadata": {},
     "output_type": "display_data"
    },
    {
     "data": {
      "application/vnd.jupyter.widget-view+json": {
       "model_id": "f78eb11d87b64e1d921d543dd4c61ba4",
       "version_major": 2,
       "version_minor": 0
      },
      "text/plain": [
       "Output()"
      ]
     },
     "metadata": {},
     "output_type": "display_data"
    }
   ],
   "source": [
    "# Define the options for the dropdown menus\n",
    "MoIs = ['Precision', 'Recall', 'F1', 'Fairness', 'Overview']\n",
    "sep = [True, False]\n",
    "\n",
    "# Create the dropdown widgets\n",
    "dropdown_MoI = widgets.Dropdown(\n",
    "    options=MoIs,\n",
    "    description='Measure of Interest:'\n",
    ");\n",
    "\n",
    "dropdown_sep = widgets.Dropdown(\n",
    "    options=sep,\n",
    "    description='Separate:'\n",
    ");\n",
    "\n",
    "# Define the output widget\n",
    "output = widgets.Output();\n",
    "\n",
    "# Define the function to generate the plot\n",
    "def generate_plot(change):\n",
    "    # Clear the previous output\n",
    "    with output:\n",
    "        output.clear_output(wait=True);\n",
    "    \n",
    "    # Get the selected values from the dropdown menus\n",
    "    selected_option_MoI = dropdown_MoI.value\n",
    "    selected_option_sep = dropdown_sep.value\n",
    "    \n",
    "    # Generate the new plot\n",
    "    with output:\n",
    "        fig = plt.figure()\n",
    "        sns.set_theme()\n",
    "        testbench.visualizer(measuresResults, MoI=selected_option_MoI, sep=selected_option_sep)\n",
    "        plt.show();\n",
    "\n",
    "# Attach the callback function to the dropdowns' event\n",
    "dropdown_MoI.observe(generate_plot, 'value')\n",
    "dropdown_sep.observe(generate_plot, 'value')\n",
    "\n",
    "# Generate the initial plot\n",
    "generate_plot(None);\n",
    "\n",
    "# Display the dropdown menus and output widget\n",
    "display(dropdown_MoI, dropdown_sep, output);"
   ]
  }
 ],
 "metadata": {
  "kernelspec": {
   "display_name": "Python 3 (ipykernel)",
   "language": "python",
   "name": "python3"
  },
  "language_info": {
   "codemirror_mode": {
    "name": "ipython",
    "version": 3
   },
   "file_extension": ".py",
   "mimetype": "text/x-python",
   "name": "python",
   "nbconvert_exporter": "python",
   "pygments_lexer": "ipython3",
   "version": "3.8.10"
  }
 },
 "nbformat": 4,
 "nbformat_minor": 5
}
